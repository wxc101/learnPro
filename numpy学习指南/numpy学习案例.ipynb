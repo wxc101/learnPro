{
 "cells": [
  {
   "cell_type": "code",
   "execution_count": 1,
   "metadata": {},
   "outputs": [],
   "source": [
    "import numpy as np"
   ]
  },
  {
   "cell_type": "code",
   "execution_count": 3,
   "metadata": {},
   "outputs": [],
   "source": [
    "data = np.array([2,3,4,55,5])"
   ]
  },
  {
   "cell_type": "code",
   "execution_count": 9,
   "metadata": {},
   "outputs": [
    {
     "name": "stdout",
     "output_type": "stream",
     "text": [
      "(2, 3)\n",
      "6 8 4\n"
     ]
    }
   ],
   "source": [
    "npt = np.array([[6,8,9],[4,8,7]])\n",
    "print(npt.shape)\n",
    "print(npt[0, 0], npt[0, 1], npt[1, 0])"
   ]
  },
  {
   "cell_type": "code",
   "execution_count": 10,
   "metadata": {},
   "outputs": [],
   "source": [
    "data = np.random.random((2,2))"
   ]
  },
  {
   "cell_type": "code",
   "execution_count": 11,
   "metadata": {},
   "outputs": [
    {
     "name": "stdout",
     "output_type": "stream",
     "text": [
      "[[0.44720873 0.7179942 ]\n",
      " [0.62272772 0.91572956]]\n"
     ]
    }
   ],
   "source": [
    "print(data)"
   ]
  },
  {
   "cell_type": "code",
   "execution_count": 17,
   "metadata": {},
   "outputs": [
    {
     "name": "stdout",
     "output_type": "stream",
     "text": [
      "[[ 1  2  3]\n",
      " [ 4  5  6]\n",
      " [ 7  8  9]\n",
      " [10 11 12]]\n"
     ]
    }
   ],
   "source": [
    "import numpy as np\n",
    "\n",
    "x = np.array([[1,2,3], [4,5,6], [7,8,9], [10, 11, 12]])\n",
    "v = np.array([1, 0, 1])\n",
    "y = np.empty_like(x)\n",
    "\n",
    "print(y)"
   ]
  },
  {
   "cell_type": "code",
   "execution_count": 19,
   "metadata": {},
   "outputs": [
    {
     "name": "stdout",
     "output_type": "stream",
     "text": [
      "[[ 1  2  3]\n",
      " [ 4  5  6]\n",
      " [ 7  8  9]\n",
      " [10 11 12]]\n"
     ]
    }
   ],
   "source": [
    "print(y)"
   ]
  },
  {
   "cell_type": "code",
   "execution_count": 24,
   "metadata": {},
   "outputs": [
    {
     "name": "stdout",
     "output_type": "stream",
     "text": [
      "[[ 1  2  3]\n",
      " [ 4  5  6]\n",
      " [ 7  8  9]\n",
      " [10 11 12]]\n",
      "[[ 1  2  3]\n",
      " [ 4  5  6]\n",
      " [ 7  8  9]\n",
      " [10 11 12]]\n",
      "[[ 1  2  3]\n",
      " [ 4  5  6]\n",
      " [ 7  8  9]\n",
      " [10 11 12]]\n"
     ]
    }
   ],
   "source": [
    "import numpy as np\n",
    "x = np.array([[1,2,3],[4,5,6],[7,8,9],[10,11,12]])\n",
    "v = np.array([1,0,1])\n",
    "y = np.empty_like(x)\n",
    "a = np.empty_like(x)\n",
    "print(a)\n",
    "print(y)\n",
    "t = np.empty_like(x)\n",
    "print(t)\n"
   ]
  },
  {
   "cell_type": "code",
   "execution_count": 25,
   "metadata": {},
   "outputs": [
    {
     "ename": "ValueError",
     "evalue": "operands could not be broadcast together with shapes (4,3) (4,) ",
     "output_type": "error",
     "traceback": [
      "\u001b[1;31m---------------------------------------------------------------------------\u001b[0m",
      "\u001b[1;31mValueError\u001b[0m                                Traceback (most recent call last)",
      "\u001b[1;32mc:\\Users\\wang\\Desktop\\paper\\coding\\MSCLIP-wxc\\test.ipynb Cell 11\u001b[0m in \u001b[0;36m<cell line: 5>\u001b[1;34m()\u001b[0m\n\u001b[0;32m      <a href='vscode-notebook-cell:/c%3A/Users/wang/Desktop/paper/coding/MSCLIP-wxc/test.ipynb#X13sZmlsZQ%3D%3D?line=2'>3</a>\u001b[0m x \u001b[39m=\u001b[39m np\u001b[39m.\u001b[39marray([[\u001b[39m1\u001b[39m,\u001b[39m2\u001b[39m,\u001b[39m3\u001b[39m], [\u001b[39m4\u001b[39m,\u001b[39m5\u001b[39m,\u001b[39m6\u001b[39m], [\u001b[39m7\u001b[39m,\u001b[39m8\u001b[39m,\u001b[39m9\u001b[39m], [\u001b[39m10\u001b[39m, \u001b[39m11\u001b[39m, \u001b[39m12\u001b[39m]])\n\u001b[0;32m      <a href='vscode-notebook-cell:/c%3A/Users/wang/Desktop/paper/coding/MSCLIP-wxc/test.ipynb#X13sZmlsZQ%3D%3D?line=3'>4</a>\u001b[0m v \u001b[39m=\u001b[39m np\u001b[39m.\u001b[39marray([\u001b[39m1\u001b[39m, \u001b[39m0\u001b[39m, \u001b[39m1\u001b[39m,\u001b[39m2\u001b[39m])\n\u001b[1;32m----> <a href='vscode-notebook-cell:/c%3A/Users/wang/Desktop/paper/coding/MSCLIP-wxc/test.ipynb#X13sZmlsZQ%3D%3D?line=4'>5</a>\u001b[0m \u001b[39mprint\u001b[39m(x\u001b[39m+\u001b[39;49mv)\n",
      "\u001b[1;31mValueError\u001b[0m: operands could not be broadcast together with shapes (4,3) (4,) "
     ]
    }
   ],
   "source": [
    "import numpy as np\n",
    "\n",
    "x = np.array([[1,2,3], [4,5,6], [7,8,9], [10, 11, 12]])\n",
    "v = np.array([1, 0, 1,2])\n",
    "print(x+v)"
   ]
  },
  {
   "cell_type": "code",
   "execution_count": 51,
   "metadata": {},
   "outputs": [],
   "source": [
    "import numpy as np\n",
    " \n",
    "a = np.array(\n",
    "       [[0, 1],\n",
    "       [2, 3],\n",
    "       [4, 5]])\n",
    "b = np.array([10,20])\n",
    "c = np.array([0, 1, 2])\n",
    "d=np.array([[10],[20],[30]])\n",
    "e = np.array([[10],[20],[30]])\n"
   ]
  },
  {
   "cell_type": "code",
   "execution_count": 52,
   "metadata": {},
   "outputs": [
    {
     "name": "stdout",
     "output_type": "stream",
     "text": [
      "a = \n",
      " [[0 1]\n",
      " [2 3]\n",
      " [4 5]]  \n",
      " a.shape = (3, 2)\n",
      "b = \n",
      " [10 20]  \n",
      " b.shape = (2,)\n",
      "c = \n",
      " [0 1 2]  \n",
      " c.shape = (3,)\n",
      "d = \n",
      " [[10]\n",
      " [20]\n",
      " [30]]  \n",
      " d.shape = (3, 1)\n",
      "e = \n",
      " [[10]\n",
      " [20]\n",
      " [30]]  \n",
      " e.shape = (3, 1)\n"
     ]
    }
   ],
   "source": [
    "print(\"a = \\n\",a , \" \\n a.shape =\",a.shape)\n",
    "print(\"b = \\n\",b , \" \\n b.shape =\",b.shape)\n",
    "print(\"c = \\n\",c , \" \\n c.shape =\",c.shape)\n",
    "print(\"d = \\n\",d , \" \\n d.shape =\",d.shape)\n",
    "print(\"e = \\n\",e , \" \\n e.shape =\",e.shape)"
   ]
  },
  {
   "cell_type": "code",
   "execution_count": 71,
   "metadata": {},
   "outputs": [],
   "source": [
    "f = np.array([[1,2,3],[2,2,3]])"
   ]
  },
  {
   "cell_type": "code",
   "execution_count": 72,
   "metadata": {},
   "outputs": [
    {
     "name": "stdout",
     "output_type": "stream",
     "text": [
      "[[0 2 6]\n",
      " [0 2 6]]\n"
     ]
    }
   ],
   "source": [
    "print(f*c)"
   ]
  },
  {
   "cell_type": "markdown",
   "metadata": {},
   "source": []
  },
  {
   "cell_type": "code",
   "execution_count": 55,
   "metadata": {},
   "outputs": [
    {
     "ename": "SyntaxError",
     "evalue": "invalid syntax (1562358800.py, line 15)",
     "output_type": "error",
     "traceback": [
      "\u001b[1;36m  Input \u001b[1;32mIn [55]\u001b[1;36m\u001b[0m\n\u001b[1;33m    ValueError: operands could not be broadcast together with shapes (3,) (3,2)\u001b[0m\n\u001b[1;37m                         ^\u001b[0m\n\u001b[1;31mSyntaxError\u001b[0m\u001b[1;31m:\u001b[0m invalid syntax\n"
     ]
    }
   ],
   "source": [
    "\n",
    " \n",
    "\"\"\"\n",
    "1. element-wise 运算，维度对应关系\n",
    "b的第0维和a的第1维对齐（维度倒着对齐）\n",
    "b重复和a的每行运算，输入结果为3*2维\n",
    "\"\"\"\n",
    "b*a\n",
    "array([[  0,  20],\n",
    "       [ 20,  60],\n",
    "       [ 40, 100]])\n",
    " \n",
    "\"\"\"\n",
    "1.1 相应维度不对齐，并且长度都不为1，非法\n",
    "\"\"\"\n",
    "c*a\n",
    "ValueError: operands could not be broadcast together with shapes (3,) (3,2) \n",
    " \n",
    "#c = np.array([0, 1, 2])\n",
    "d=np.array([[10],[20],[30]])\n",
    " \n",
    "\"\"\"\n",
    "1.2 相应维度可广播\n",
    "c在行方向复制扩充，d在列方向\n",
    "\"\"\"\n",
    "d+c\n",
    "array([[10, 11, 12],\n",
    "       [20, 21, 22],\n",
    "       [30, 31, 32]])\n",
    " \n",
    "\"\"\"\n",
    "2.1 非element-wise运算，按运算定义来计算，基础对应维度上不适用广播\n",
    "    如果基础对应维度不对齐，会直接报错\n",
    "\"\"\"\n",
    "np.dot(d,c)  \n",
    "ValueError: shapes (3,1) and (3,) not aligned: 1 (dim 1) != 3 (dim 0)\n",
    "#np.dot(c,d)是合法的\n",
    " \n",
    "\"\"\"\n",
    "2.2 非element-wise运算\n",
    "    基础维度合法对齐时，在更高维度上是element-wise对应的（以基础对应块为单位），会适用广播规则\n",
    "\"\"\"\n",
    "a=np.random.randint(24,size=[2,3,4])\n",
    "b=np.random.randint(12,size=[4,2])\n",
    "np.dot(a,b).shape    #能合法进行运算\n",
    "Out[111]: (2, 3, 2)"
   ]
  },
  {
   "cell_type": "code",
   "execution_count": 58,
   "metadata": {},
   "outputs": [
    {
     "name": "stdout",
     "output_type": "stream",
     "text": [
      "(2,)\n"
     ]
    }
   ],
   "source": [
    "print(np.array([1,2]).shape)"
   ]
  },
  {
   "cell_type": "code",
   "execution_count": 77,
   "metadata": {},
   "outputs": [
    {
     "name": "stdout",
     "output_type": "stream",
     "text": [
      "[[1 0 1 1 0 1 1 0 1 1 0 1]\n",
      " [1 0 1 1 0 1 1 0 1 1 0 1]\n",
      " [1 0 1 1 0 1 1 0 1 1 0 1]\n",
      " [1 0 1 1 0 1 1 0 1 1 0 1]]\n",
      "[1 0 1 1 0 1]\n",
      "[[1 0 1 1 0 1]]\n"
     ]
    }
   ],
   "source": [
    "import numpy as np\n",
    "\n",
    "x = np.array([[1,2,3], [4,5,6], [7,8,9], [10, 11, 12]])\n",
    "v = np.array([1, 0, 1])\n",
    "vv = np.tile(v, (4, 4))\n",
    "print(vv)\n",
    "vv = np.tile(v, 2)\n",
    "print(vv)\n",
    "vv = np.tile(v, (1,2))\n",
    "print(vv)\n",
    "\n"
   ]
  },
  {
   "cell_type": "code",
   "execution_count": 80,
   "metadata": {},
   "outputs": [
    {
     "name": "stdout",
     "output_type": "stream",
     "text": [
      "{'name ': 'wangxinchao', 'age': 20}\n"
     ]
    }
   ],
   "source": [
    "a ={\"name \":'wangxinchao',\"age\":19}\n",
    "b = a\n",
    "a[\"age\"] = 20\n",
    "print(b)\n",
    "# {'name ': 'wangxinchao', 'age': 20}\n",
    "\n",
    "x = [12,3,4,4]\n",
    "y = x\n",
    "x[0] = 13\n",
    "print(x)\n",
    "print(y)\n",
    "# [13, 3, 4, 4]\n",
    "\n",
    "# 失效了\n",
    "x = 23\n",
    "y = x\n",
    "print(y)\n",
    "x = 23+3\n",
    "print(y)\n",
    "# 23"
   ]
  },
  {
   "cell_type": "code",
   "execution_count": 96,
   "metadata": {},
   "outputs": [
    {
     "data": {
      "text/plain": [
       "array(['c', 'b', 'd', 'a'], dtype='<U1')"
      ]
     },
     "execution_count": 96,
     "metadata": {},
     "output_type": "execute_result"
    }
   ],
   "source": [
    "np.random.rand(3) # 生成服从0-1均匀分布的三个随机数\n",
    "np.random.rand(3, 3) # 注意这里传入的不是元组，每个维度大小分开输入\n",
    "\n",
    "# randn生成了N(0,I)的标准正态分布：\n",
    "np.random.randn(3)\n",
    "np.random.randn(2, 2)\n",
    "\n",
    "\n",
    "# randint可以指定生成随机整数的最小值最大值（不包含）和维度大小\n",
    "low, high, size = 5, 15, (2,2) # 生成5到14的随机整数\n",
    "np.random.randint(low, high, size)\n",
    "\n",
    "\n",
    "# choice可以从给定的列表中，以一定概率和方式抽取结果，当不指定概率时为均匀采样，默认抽取方式为有放回抽样\n",
    "my_list = ['a', 'b', 'c', 'd']\n",
    "np.random.choice(my_list, 2, replace=False, p=[0.1, 0.7, 0.1 ,0.1]) # replace=False表示不允许出现重复元素\n",
    "np.random.choice(my_list, (3,3)) # 当不指定参数时，默认均匀采样，可以出现重复元素\n",
    "\n",
    "# 当返回的元素个数与原列表相同时，不放回抽样等价于使用permutation函数，即打散原列表\n",
    "np.random.permutation(my_list)\n"
   ]
  },
  {
   "cell_type": "code",
   "execution_count": 93,
   "metadata": {},
   "outputs": [
    {
     "data": {
      "text/plain": [
       "array([ 8.27698122,  8.43816069, 13.13586632])"
      ]
     },
     "execution_count": 93,
     "metadata": {},
     "output_type": "execute_result"
    }
   ],
   "source": []
  },
  {
   "cell_type": "code",
   "execution_count": 90,
   "metadata": {},
   "outputs": [
    {
     "name": "stdout",
     "output_type": "stream",
     "text": [
      "[13, 3, 4, 4]\n",
      "[13, 3, 4, 4]\n"
     ]
    }
   ],
   "source": [
    "x = [12,3,4,4]\n",
    "y = x\n",
    "x[0] = 13\n",
    "print(x)\n",
    "print(y)\n",
    "# [13, 3, 4, 4]"
   ]
  },
  {
   "cell_type": "code",
   "execution_count": 100,
   "metadata": {},
   "outputs": [
    {
     "name": "stdout",
     "output_type": "stream",
     "text": [
      "[[ 0  1  2  3]\n",
      " [ 4  5  6  7]\n",
      " [ 8  9 10 11]]\n",
      "[[ 0  1  2]\n",
      " [ 3  4  5]\n",
      " [ 6  7  8]\n",
      " [ 9 10 11]]\n",
      "[[[ 0  1  2]\n",
      "  [ 3  4  5]]\n",
      "\n",
      " [[ 6  7  8]\n",
      "  [ 9 10 11]]]\n"
     ]
    }
   ],
   "source": [
    "import numpy as np\n",
    "import matplotlib.pyplot as plt\n",
    "\n",
    "# 生成一个二维数据\n",
    "x = np.array(range(12))\n",
    "x = np.reshape(x, (3,4))\n",
    "print(x)\n",
    "# 输出为：\n",
    "# [[ 0  1  2  3]\n",
    "#  [ 4  5  6  7]\n",
    "x = np.reshape(x, (4,3))\n",
    "print(x)\n",
    "\n",
    "x = np.reshape(x, (2,2,3))\n",
    "print(x)"
   ]
  },
  {
   "cell_type": "code",
   "execution_count": 106,
   "metadata": {},
   "outputs": [
    {
     "name": "stdout",
     "output_type": "stream",
     "text": [
      "[[ 0  1  2  3]\n",
      " [ 4  5  6  7]\n",
      " [ 8  9 10 11]]\n",
      "[[0]\n",
      " [1]\n",
      " [2]\n",
      " [3]]\n"
     ]
    }
   ],
   "source": [
    "# 生成一个二维数据\n",
    "x = np.array(range(12))\n",
    "x = np.reshape(x, (3,4))\n",
    "print(x)\n",
    "# 输出为：\n",
    "# [[ 0  1  2  3]\n",
    "#  [ 4  5  6  7]\n",
    "#  [ 8  9 10 11]]\n",
    "\n",
    "# 在多维数组的最后一维再增加一个维度\n",
    "y1 = np.expand_dims(x, axis=x.ndim)"
   ]
  }
 ],
 "metadata": {
  "kernelspec": {
   "display_name": "Python 3.8.8 ('base')",
   "language": "python",
   "name": "python3"
  },
  "language_info": {
   "codemirror_mode": {
    "name": "ipython",
    "version": 3
   },
   "file_extension": ".py",
   "mimetype": "text/x-python",
   "name": "python",
   "nbconvert_exporter": "python",
   "pygments_lexer": "ipython3",
   "version": "3.8.8"
  },
  "orig_nbformat": 4,
  "vscode": {
   "interpreter": {
    "hash": "2f70601996b01c6eb5751650076ee20d7b2fce1532b1684dc391acc2c13f7eac"
   }
  }
 },
 "nbformat": 4,
 "nbformat_minor": 2
}
